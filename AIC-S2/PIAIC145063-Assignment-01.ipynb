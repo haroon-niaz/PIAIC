{
 "cells": [
  {
   "cell_type": "code",
   "execution_count": 1,
   "metadata": {},
   "outputs": [],
   "source": [
    "import numpy as np"
   ]
  },
  {
   "cell_type": "code",
   "execution_count": 3,
   "metadata": {},
   "outputs": [],
   "source": [
    "x=np.zeros((4,4))"
   ]
  },
  {
   "cell_type": "code",
   "execution_count": 4,
   "metadata": {},
   "outputs": [
    {
     "data": {
      "text/plain": [
       "array([[0., 0., 0., 0.],\n",
       "       [0., 0., 0., 0.],\n",
       "       [0., 0., 0., 0.],\n",
       "       [0., 0., 0., 0.]])"
      ]
     },
     "execution_count": 4,
     "metadata": {},
     "output_type": "execute_result"
    }
   ],
   "source": [
    "x"
   ]
  },
  {
   "cell_type": "code",
   "execution_count": 5,
   "metadata": {},
   "outputs": [
    {
     "data": {
      "text/plain": [
       "array([[9.77824555e+199, 6.01334653e-154, 1.16034627e+200,\n",
       "        1.39807419e-152, 7.62863758e+228, 1.62691064e+219],\n",
       "       [4.26209402e+180, 1.13483828e-153, 2.43722657e-152,\n",
       "        3.44747791e-085, 1.17518756e+180, 5.98189649e-154],\n",
       "       [4.47593816e-091, 3.62459345e+228, 4.24438351e+175,\n",
       "        1.03966460e-028, 4.83245961e+276, 6.01347002e-154],\n",
       "       [1.38496762e+219, 1.21698002e-152, 2.66065731e-260,\n",
       "        7.70858946e+218, 6.01334668e-154, 4.47593816e-091],\n",
       "       [7.01413727e-009, 3.74168445e+233, 2.59345444e+161,\n",
       "        2.58400946e+161, 1.00557086e+242, 2.96519945e-062],\n",
       "       [2.04740462e+161, 1.05135755e-153, 2.44011708e-154,\n",
       "        6.03394389e-154, 6.01347002e-154, 6.01347002e-154]])"
      ]
     },
     "execution_count": 5,
     "metadata": {},
     "output_type": "execute_result"
    }
   ],
   "source": [
    "np.empty((6,6))"
   ]
  },
  {
   "cell_type": "code",
   "execution_count": 7,
   "metadata": {},
   "outputs": [],
   "source": [
    "l=[1,2,3,4]"
   ]
  },
  {
   "cell_type": "code",
   "execution_count": 8,
   "metadata": {},
   "outputs": [
    {
     "data": {
      "text/plain": [
       "array([1, 2, 3, 4])"
      ]
     },
     "execution_count": 8,
     "metadata": {},
     "output_type": "execute_result"
    }
   ],
   "source": [
    "np.array(l)"
   ]
  },
  {
   "cell_type": "code",
   "execution_count": 10,
   "metadata": {},
   "outputs": [],
   "source": [
    "x=np.arange(1,100,10)"
   ]
  },
  {
   "cell_type": "code",
   "execution_count": 11,
   "metadata": {},
   "outputs": [
    {
     "data": {
      "text/plain": [
       "(10,)"
      ]
     },
     "execution_count": 11,
     "metadata": {},
     "output_type": "execute_result"
    }
   ],
   "source": [
    "x.shape"
   ]
  },
  {
   "cell_type": "code",
   "execution_count": 13,
   "metadata": {},
   "outputs": [],
   "source": [
    "x=np.zeros((10,10))"
   ]
  },
  {
   "cell_type": "code",
   "execution_count": 14,
   "metadata": {},
   "outputs": [
    {
     "data": {
      "text/plain": [
       "(10, 10)"
      ]
     },
     "execution_count": 14,
     "metadata": {},
     "output_type": "execute_result"
    }
   ],
   "source": [
    "x.shape"
   ]
  },
  {
   "cell_type": "code",
   "execution_count": 15,
   "metadata": {},
   "outputs": [],
   "source": [
    "y=x.reshape((2,2,5,5))"
   ]
  },
  {
   "cell_type": "code",
   "execution_count": 16,
   "metadata": {},
   "outputs": [
    {
     "data": {
      "text/plain": [
       "array([[[[0., 0., 0., 0., 0.],\n",
       "         [0., 0., 0., 0., 0.],\n",
       "         [0., 0., 0., 0., 0.],\n",
       "         [0., 0., 0., 0., 0.],\n",
       "         [0., 0., 0., 0., 0.]],\n",
       "\n",
       "        [[0., 0., 0., 0., 0.],\n",
       "         [0., 0., 0., 0., 0.],\n",
       "         [0., 0., 0., 0., 0.],\n",
       "         [0., 0., 0., 0., 0.],\n",
       "         [0., 0., 0., 0., 0.]]],\n",
       "\n",
       "\n",
       "       [[[0., 0., 0., 0., 0.],\n",
       "         [0., 0., 0., 0., 0.],\n",
       "         [0., 0., 0., 0., 0.],\n",
       "         [0., 0., 0., 0., 0.],\n",
       "         [0., 0., 0., 0., 0.]],\n",
       "\n",
       "        [[0., 0., 0., 0., 0.],\n",
       "         [0., 0., 0., 0., 0.],\n",
       "         [0., 0., 0., 0., 0.],\n",
       "         [0., 0., 0., 0., 0.],\n",
       "         [0., 0., 0., 0., 0.]]]])"
      ]
     },
     "execution_count": 16,
     "metadata": {},
     "output_type": "execute_result"
    }
   ],
   "source": [
    "y"
   ]
  },
  {
   "cell_type": "code",
   "execution_count": 17,
   "metadata": {},
   "outputs": [
    {
     "data": {
      "text/plain": [
       "dtype('float64')"
      ]
     },
     "execution_count": 17,
     "metadata": {},
     "output_type": "execute_result"
    }
   ],
   "source": [
    "y.dtype"
   ]
  },
  {
   "cell_type": "code",
   "execution_count": 18,
   "metadata": {},
   "outputs": [
    {
     "data": {
      "text/plain": [
       "4"
      ]
     },
     "execution_count": 18,
     "metadata": {},
     "output_type": "execute_result"
    }
   ],
   "source": [
    "y.ndim"
   ]
  },
  {
   "cell_type": "code",
   "execution_count": 19,
   "metadata": {},
   "outputs": [],
   "source": [
    "a=np.random.randn((10))"
   ]
  },
  {
   "cell_type": "code",
   "execution_count": 20,
   "metadata": {},
   "outputs": [
    {
     "data": {
      "text/plain": [
       "array([ 1.37027608, -1.3986627 ,  0.75193539, -0.98452946,  1.13972101,\n",
       "        1.6950786 , -0.27223169,  1.50473773, -0.13128268,  0.48085336])"
      ]
     },
     "execution_count": 20,
     "metadata": {},
     "output_type": "execute_result"
    }
   ],
   "source": [
    "a"
   ]
  },
  {
   "cell_type": "code",
   "execution_count": 21,
   "metadata": {},
   "outputs": [],
   "source": [
    "b=np.random.randn((10))"
   ]
  },
  {
   "cell_type": "code",
   "execution_count": 22,
   "metadata": {},
   "outputs": [
    {
     "data": {
      "text/plain": [
       "array([ 1.73454282, -0.3684827 , -0.40758987, -0.58396846,  0.61346371,\n",
       "        0.4893153 ,  1.81575283,  1.29394202, -0.6063662 ,  0.67373083])"
      ]
     },
     "execution_count": 22,
     "metadata": {},
     "output_type": "execute_result"
    }
   ],
   "source": [
    "b"
   ]
  },
  {
   "cell_type": "code",
   "execution_count": 23,
   "metadata": {},
   "outputs": [
    {
     "data": {
      "text/plain": [
       "array([ 3.10481889, -1.7671454 ,  0.34434553, -1.56849791,  1.75318473,\n",
       "        2.1843939 ,  1.54352113,  2.79867975, -0.73764887,  1.15458419])"
      ]
     },
     "execution_count": 23,
     "metadata": {},
     "output_type": "execute_result"
    }
   ],
   "source": [
    "a+b"
   ]
  },
  {
   "cell_type": "code",
   "execution_count": 24,
   "metadata": {},
   "outputs": [
    {
     "data": {
      "text/plain": [
       "array([-0.36426674, -1.03018001,  1.15952526, -0.400561  ,  0.5262573 ,\n",
       "        1.2057633 , -2.08798452,  0.21079571,  0.47508352, -0.19287747])"
      ]
     },
     "execution_count": 24,
     "metadata": {},
     "output_type": "execute_result"
    }
   ],
   "source": [
    "a-b"
   ]
  },
  {
   "cell_type": "code",
   "execution_count": 25,
   "metadata": {},
   "outputs": [
    {
     "data": {
      "text/plain": [
       "array([ 2.74055215, -2.79732541,  1.50387079, -1.96905891,  2.27944203,\n",
       "        3.3901572 , -0.54446339,  3.00947546, -0.26256535,  0.96170672])"
      ]
     },
     "execution_count": 25,
     "metadata": {},
     "output_type": "execute_result"
    }
   ],
   "source": [
    "2*a"
   ]
  },
  {
   "cell_type": "code",
   "execution_count": 26,
   "metadata": {},
   "outputs": [
    {
     "data": {
      "text/plain": [
       "array([ 0.72977995, -0.71496866,  1.32990149, -1.01571364,  0.87740771,\n",
       "        0.58994315, -3.67334157,  0.66456764, -7.6171512 ,  2.07963609])"
      ]
     },
     "execution_count": 26,
     "metadata": {},
     "output_type": "execute_result"
    }
   ],
   "source": [
    "1/a"
   ]
  },
  {
   "cell_type": "code",
   "execution_count": 27,
   "metadata": {},
   "outputs": [
    {
     "data": {
      "text/plain": [
       "array([ True, False,  True, False,  True,  True, False,  True, False,\n",
       "        True])"
      ]
     },
     "execution_count": 27,
     "metadata": {},
     "output_type": "execute_result"
    }
   ],
   "source": [
    "a>0"
   ]
  },
  {
   "cell_type": "code",
   "execution_count": 28,
   "metadata": {},
   "outputs": [
    {
     "data": {
      "text/plain": [
       "array([1.37027608, 0.75193539, 1.13972101, 1.6950786 , 1.50473773,\n",
       "       0.48085336])"
      ]
     },
     "execution_count": 28,
     "metadata": {},
     "output_type": "execute_result"
    }
   ],
   "source": [
    "a[a>0]"
   ]
  },
  {
   "cell_type": "code",
   "execution_count": 30,
   "metadata": {},
   "outputs": [],
   "source": [
    "x=np.array([1,7,8,9,5])"
   ]
  },
  {
   "cell_type": "code",
   "execution_count": 31,
   "metadata": {},
   "outputs": [
    {
     "data": {
      "text/plain": [
       "5"
      ]
     },
     "execution_count": 31,
     "metadata": {},
     "output_type": "execute_result"
    }
   ],
   "source": [
    "x[4]"
   ]
  },
  {
   "cell_type": "code",
   "execution_count": 32,
   "metadata": {},
   "outputs": [
    {
     "data": {
      "text/plain": [
       "array([7, 8, 9])"
      ]
     },
     "execution_count": 32,
     "metadata": {},
     "output_type": "execute_result"
    }
   ],
   "source": [
    "x[x>5]"
   ]
  },
  {
   "cell_type": "code",
   "execution_count": 35,
   "metadata": {},
   "outputs": [
    {
     "data": {
      "text/plain": [
       "array([8, 7])"
      ]
     },
     "execution_count": 35,
     "metadata": {},
     "output_type": "execute_result"
    }
   ],
   "source": [
    "x[[2,1]]"
   ]
  },
  {
   "cell_type": "code",
   "execution_count": 38,
   "metadata": {},
   "outputs": [],
   "source": [
    "x=np.random.randn(10,10)"
   ]
  },
  {
   "cell_type": "code",
   "execution_count": 39,
   "metadata": {},
   "outputs": [
    {
     "data": {
      "text/plain": [
       "array([[ 2.00278075, -0.69206718, -0.01616107,  0.84195858,  1.03028679,\n",
       "        -0.72829677, -0.06740609,  1.21261499,  0.7509485 , -1.78661761],\n",
       "       [-1.26385008, -0.90846716, -0.55355887,  2.83588554, -0.81904221,\n",
       "        -0.73063763, -0.47360535,  0.01877984,  0.18490913,  1.15872493],\n",
       "       [-1.42720871,  0.7579914 ,  2.01061171, -0.15690981, -0.6649809 ,\n",
       "        -0.25984356, -0.01166516,  0.10496317, -0.10182482, -0.65601397],\n",
       "       [-0.79204255, -1.92811147, -0.61915835,  0.29298447,  1.35389085,\n",
       "         0.67111105,  3.72108453,  1.23065323, -0.21396008,  0.61789445],\n",
       "       [ 0.11589994, -0.74458607, -0.06569461, -0.05388524,  0.27839129,\n",
       "        -1.38749574, -0.70329333,  0.70854527, -0.39202981, -0.43465921],\n",
       "       [ 1.0083438 , -1.56604635, -0.83542015, -1.30828702,  0.01971677,\n",
       "         0.04893317, -0.40451857,  0.14056293, -0.52948931,  0.16704301],\n",
       "       [-0.3423087 , -0.42042228,  0.36400619,  1.04607304,  1.0104196 ,\n",
       "         0.25592674, -1.08421893, -0.22672276, -1.62854404,  0.5621668 ],\n",
       "       [ 0.3274605 , -1.05835747,  1.12485558,  0.3884826 ,  0.80929772,\n",
       "         1.9670673 ,  0.7524731 ,  1.58512856,  0.97327747, -1.43780068],\n",
       "       [ 1.20911877,  1.44381422, -0.52377741,  0.86430801,  0.10206097,\n",
       "        -0.37475975,  0.1984182 , -0.81114582, -0.69768232, -0.20300121],\n",
       "       [-0.50938153, -0.07289105,  1.5210143 , -0.37268213, -0.18861803,\n",
       "        -0.60815378,  0.04497583, -0.12690167, -0.25925936,  0.18572935]])"
      ]
     },
     "execution_count": 39,
     "metadata": {},
     "output_type": "execute_result"
    }
   ],
   "source": [
    "x"
   ]
  },
  {
   "cell_type": "code",
   "execution_count": 40,
   "metadata": {},
   "outputs": [
    {
     "data": {
      "text/plain": [
       "array([ 2.00278075, -0.69206718, -0.01616107,  0.84195858,  1.03028679,\n",
       "       -0.72829677, -0.06740609,  1.21261499,  0.7509485 , -1.78661761])"
      ]
     },
     "execution_count": 40,
     "metadata": {},
     "output_type": "execute_result"
    }
   ],
   "source": [
    "x[0]"
   ]
  },
  {
   "cell_type": "code",
   "execution_count": 41,
   "metadata": {},
   "outputs": [
    {
     "data": {
      "text/plain": [
       "1.0302867876645263"
      ]
     },
     "execution_count": 41,
     "metadata": {},
     "output_type": "execute_result"
    }
   ],
   "source": [
    "x[0][4]"
   ]
  },
  {
   "cell_type": "code",
   "execution_count": 42,
   "metadata": {},
   "outputs": [
    {
     "data": {
      "text/plain": [
       "array([[-1.26385008, -0.90846716, -0.55355887,  2.83588554, -0.81904221,\n",
       "        -0.73063763, -0.47360535,  0.01877984,  0.18490913,  1.15872493],\n",
       "       [-0.79204255, -1.92811147, -0.61915835,  0.29298447,  1.35389085,\n",
       "         0.67111105,  3.72108453,  1.23065323, -0.21396008,  0.61789445],\n",
       "       [ 1.0083438 , -1.56604635, -0.83542015, -1.30828702,  0.01971677,\n",
       "         0.04893317, -0.40451857,  0.14056293, -0.52948931,  0.16704301],\n",
       "       [ 0.3274605 , -1.05835747,  1.12485558,  0.3884826 ,  0.80929772,\n",
       "         1.9670673 ,  0.7524731 ,  1.58512856,  0.97327747, -1.43780068],\n",
       "       [-0.50938153, -0.07289105,  1.5210143 , -0.37268213, -0.18861803,\n",
       "        -0.60815378,  0.04497583, -0.12690167, -0.25925936,  0.18572935]])"
      ]
     },
     "execution_count": 42,
     "metadata": {},
     "output_type": "execute_result"
    }
   ],
   "source": [
    "x[1:10:2,::]"
   ]
  },
  {
   "cell_type": "code",
   "execution_count": 43,
   "metadata": {},
   "outputs": [
    {
     "data": {
      "text/plain": [
       "array([[ 2.00278075, -0.69206718, -0.01616107,  0.84195858],\n",
       "       [-1.26385008, -0.90846716, -0.55355887,  2.83588554],\n",
       "       [-1.42720871,  0.7579914 ,  2.01061171, -0.15690981],\n",
       "       [-0.79204255, -1.92811147, -0.61915835,  0.29298447],\n",
       "       [ 0.11589994, -0.74458607, -0.06569461, -0.05388524],\n",
       "       [ 1.0083438 , -1.56604635, -0.83542015, -1.30828702],\n",
       "       [-0.3423087 , -0.42042228,  0.36400619,  1.04607304],\n",
       "       [ 0.3274605 , -1.05835747,  1.12485558,  0.3884826 ],\n",
       "       [ 1.20911877,  1.44381422, -0.52377741,  0.86430801],\n",
       "       [-0.50938153, -0.07289105,  1.5210143 , -0.37268213]])"
      ]
     },
     "execution_count": 43,
     "metadata": {},
     "output_type": "execute_result"
    }
   ],
   "source": [
    "x[::,0:4]"
   ]
  },
  {
   "cell_type": "code",
   "execution_count": 44,
   "metadata": {},
   "outputs": [],
   "source": [
    "x=np.ones((5,5))"
   ]
  },
  {
   "cell_type": "code",
   "execution_count": 45,
   "metadata": {},
   "outputs": [
    {
     "data": {
      "text/plain": [
       "array([[1., 1., 1., 1., 1.],\n",
       "       [1., 1., 1., 1., 1.],\n",
       "       [1., 1., 1., 1., 1.],\n",
       "       [1., 1., 1., 1., 1.],\n",
       "       [1., 1., 1., 1., 1.]])"
      ]
     },
     "execution_count": 45,
     "metadata": {},
     "output_type": "execute_result"
    }
   ],
   "source": [
    "x"
   ]
  },
  {
   "cell_type": "code",
   "execution_count": 48,
   "metadata": {},
   "outputs": [],
   "source": [
    "x[1:-1,1:-1]=0"
   ]
  },
  {
   "cell_type": "code",
   "execution_count": 49,
   "metadata": {},
   "outputs": [
    {
     "data": {
      "text/plain": [
       "array([[1., 1., 1., 1., 1.],\n",
       "       [1., 0., 0., 0., 1.],\n",
       "       [1., 0., 0., 0., 1.],\n",
       "       [1., 0., 0., 0., 1.],\n",
       "       [1., 1., 1., 1., 1.]])"
      ]
     },
     "execution_count": 49,
     "metadata": {},
     "output_type": "execute_result"
    }
   ],
   "source": [
    "x"
   ]
  },
  {
   "cell_type": "code",
   "execution_count": 50,
   "metadata": {},
   "outputs": [],
   "source": [
    "x=np.array([10,9,8,56,11])"
   ]
  },
  {
   "cell_type": "code",
   "execution_count": 51,
   "metadata": {},
   "outputs": [
    {
     "data": {
      "text/plain": [
       "array([10,  9,  8, 56, 11])"
      ]
     },
     "execution_count": 51,
     "metadata": {},
     "output_type": "execute_result"
    }
   ],
   "source": [
    "x"
   ]
  },
  {
   "cell_type": "code",
   "execution_count": 52,
   "metadata": {},
   "outputs": [
    {
     "data": {
      "text/plain": [
       "array([3.16227766, 3.        , 2.82842712, 7.48331477, 3.31662479])"
      ]
     },
     "execution_count": 52,
     "metadata": {},
     "output_type": "execute_result"
    }
   ],
   "source": [
    "np.sqrt(x)"
   ]
  },
  {
   "cell_type": "code",
   "execution_count": 53,
   "metadata": {},
   "outputs": [
    {
     "data": {
      "text/plain": [
       "array([ 100,   81,   64, 3136,  121], dtype=int32)"
      ]
     },
     "execution_count": 53,
     "metadata": {},
     "output_type": "execute_result"
    }
   ],
   "source": [
    "np.power(x,2)"
   ]
  },
  {
   "cell_type": "code",
   "execution_count": 54,
   "metadata": {},
   "outputs": [],
   "source": [
    "y=[7,1,2,3,-1]"
   ]
  },
  {
   "cell_type": "code",
   "execution_count": 55,
   "metadata": {},
   "outputs": [
    {
     "data": {
      "text/plain": [
       "array([10,  9,  8, 56, 11])"
      ]
     },
     "execution_count": 55,
     "metadata": {},
     "output_type": "execute_result"
    }
   ],
   "source": [
    "np.maximum(x,y)"
   ]
  },
  {
   "cell_type": "code",
   "execution_count": null,
   "metadata": {},
   "outputs": [],
   "source": []
  }
 ],
 "metadata": {
  "kernelspec": {
   "display_name": "Python 3",
   "language": "python",
   "name": "python3"
  },
  "language_info": {
   "codemirror_mode": {
    "name": "ipython",
    "version": 3
   },
   "file_extension": ".py",
   "mimetype": "text/x-python",
   "name": "python",
   "nbconvert_exporter": "python",
   "pygments_lexer": "ipython3",
   "version": "3.8.5"
  }
 },
 "nbformat": 4,
 "nbformat_minor": 4
}
